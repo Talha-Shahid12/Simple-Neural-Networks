{
 "cells": [
  {
   "cell_type": "code",
   "execution_count": null,
   "id": "09a763ea-df6d-4202-bc72-510de743166f",
   "metadata": {},
   "outputs": [],
   "source": [
    "import pandas as pd\n",
    "df = pd.read_csv('titanic.csv')"
   ]
  },
  {
   "cell_type": "code",
   "execution_count": null,
   "id": "cbdcc3ff-8542-4c81-a05f-4b723612e434",
   "metadata": {},
   "outputs": [],
   "source": [
    "original_input = df.drop(['PassengerId', 'Survived', 'Name', 'SibSp', 'Parch', 'Ticket', 'Cabin', 'Embarked'], axis = 'columns')"
   ]
  },
  {
   "cell_type": "code",
   "execution_count": null,
   "id": "1617be21-8c31-4835-b0f9-c21bc83379d4",
   "metadata": {},
   "outputs": [],
   "source": [
    "target = df.Survived"
   ]
  },
  {
   "cell_type": "code",
   "execution_count": null,
   "id": "a73513fd-0f1f-4060-81a2-f566082a45d6",
   "metadata": {},
   "outputs": [],
   "source": [
    "from sklearn.preprocessing import LabelEncoder"
   ]
  },
  {
   "cell_type": "code",
   "execution_count": null,
   "id": "76b03c8f-7ca9-40a1-8919-977123657ddc",
   "metadata": {},
   "outputs": [],
   "source": [
    "le_Pclass = LabelEncoder()\n",
    "le_Sex = LabelEncoder()\n",
    "le_Age = LabelEncoder()\n",
    "le_Fare = LabelEncoder()"
   ]
  },
  {
   "cell_type": "code",
   "execution_count": null,
   "id": "c9a37927-652e-42b7-a6a9-c97a9af2a08f",
   "metadata": {},
   "outputs": [],
   "source": [
    "original_input['Pclass_new'] = le_Pclass.fit_transform(df['Pclass'])\n",
    "original_input['Sex_new'] = le_Sex.fit_transform(df['Sex'])\n",
    "original_input['Age_new'] = le_Age.fit_transform(df['Age'])\n",
    "original_input['Fare_new'] = le_Fare.fit_transform(df['Fare'])"
   ]
  },
  {
   "cell_type": "code",
   "execution_count": null,
   "id": "73689908-1e3a-4281-ba73-c2dcaa3720ae",
   "metadata": {},
   "outputs": [],
   "source": [
    "input = original_input.drop(['Pclass', 'Sex', 'Age', 'Fare'], axis = 'columns')"
   ]
  },
  {
   "cell_type": "code",
   "execution_count": null,
   "id": "8bab8417-cfd4-4435-9f79-44fa8e5ffecf",
   "metadata": {},
   "outputs": [],
   "source": [
    "from sklearn.model_selection import train_test_split"
   ]
  },
  {
   "cell_type": "code",
   "execution_count": null,
   "id": "2d81ad82-1b93-4a1b-bb76-1fabc653bb97",
   "metadata": {},
   "outputs": [],
   "source": [
    "X_train,X_test,Y_train, Y_test = train_test_split(input,target,test_size = 0.6)"
   ]
  },
  {
   "cell_type": "code",
   "execution_count": null,
   "id": "ced9fdaa-16f5-4ba5-8aaa-ce28111402c3",
   "metadata": {},
   "outputs": [],
   "source": [
    "from sklearn.preprocessing import StandardScaler"
   ]
  },
  {
   "cell_type": "code",
   "execution_count": null,
   "id": "ada4f5bd-4aea-41cd-9908-ac5c4d57c40c",
   "metadata": {},
   "outputs": [],
   "source": [
    "scaler = StandardScaler()"
   ]
  },
  {
   "cell_type": "code",
   "execution_count": null,
   "id": "7989a8fc-ac30-44ed-903c-7c0f7bb4d650",
   "metadata": {},
   "outputs": [],
   "source": [
    "scaler.fit(X_train)"
   ]
  },
  {
   "cell_type": "code",
   "execution_count": null,
   "id": "3a64e608-0bcb-4df5-9d26-5a5a3a7d3a6e",
   "metadata": {},
   "outputs": [],
   "source": [
    "X_test = scaler.transform(X_test)\n",
    "X_train = scaler.transform(X_train)"
   ]
  },
  {
   "cell_type": "code",
   "execution_count": null,
   "id": "38b95cbe-2e35-408e-9392-4f44dc589a77",
   "metadata": {},
   "outputs": [],
   "source": [
    "from sklearn.neural_network import MLPClassifier"
   ]
  },
  {
   "cell_type": "code",
   "execution_count": null,
   "id": "e1d1d503-00cd-4a34-acd2-e7a1316e9bfa",
   "metadata": {},
   "outputs": [],
   "source": [
    "model = MLPClassifier(hidden_layer_sizes=(5,5,5), max_iter = 1000)"
   ]
  },
  {
   "cell_type": "code",
   "execution_count": null,
   "id": "509401d9-2739-4fac-bb55-1a37c0c010e5",
   "metadata": {},
   "outputs": [],
   "source": [
    "model.fit(X_train,Y_train)\n",
    "y_pred = model.predict(X_test)"
   ]
  },
  {
   "cell_type": "code",
   "execution_count": null,
   "id": "2d65f684-3993-4d6c-89bd-58f972e7719c",
   "metadata": {},
   "outputs": [],
   "source": [
    "model.score(X_test,Y_test)"
   ]
  },
  {
   "cell_type": "code",
   "execution_count": null,
   "id": "29a8c5c1-b9f9-4ddd-ba3a-cf9d36b56aaa",
   "metadata": {},
   "outputs": [],
   "source": [
    "model.predict([[0,0,24,153]])"
   ]
  },
  {
   "cell_type": "code",
   "execution_count": null,
   "id": "33951521-be61-4bc8-8d2a-91f3b01a1879",
   "metadata": {},
   "outputs": [],
   "source": [
    "from sklearn.metrics import confusion_matrix, classification_report"
   ]
  },
  {
   "cell_type": "code",
   "execution_count": null,
   "id": "a5adcd36-48f9-411d-97a3-93d611ef448b",
   "metadata": {},
   "outputs": [],
   "source": [
    "cm = confusion_matrix(Y_test,y_pred)\n",
    "print(cm)"
   ]
  },
  {
   "cell_type": "code",
   "execution_count": null,
   "id": "27f50b02-15ab-4003-8e8b-50eb123347b4",
   "metadata": {},
   "outputs": [],
   "source": [
    "cr = classification_report(Y_test,y_pred)\n",
    "print(cr)"
   ]
  }
 ],
 "metadata": {
  "kernelspec": {
   "display_name": "Python 3 (ipykernel)",
   "language": "python",
   "name": "python3"
  },
  "language_info": {
   "codemirror_mode": {
    "name": "ipython",
    "version": 3
   },
   "file_extension": ".py",
   "mimetype": "text/x-python",
   "name": "python",
   "nbconvert_exporter": "python",
   "pygments_lexer": "ipython3",
   "version": "3.11.7"
  }
 },
 "nbformat": 4,
 "nbformat_minor": 5
}
